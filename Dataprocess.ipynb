{
 "cells": [
  {
   "attachments": {},
   "cell_type": "markdown",
   "metadata": {},
   "source": [
    "# Import pacakge and file"
   ]
  },
  {
   "cell_type": "code",
   "execution_count": 3,
   "metadata": {},
   "outputs": [
    {
     "name": "stderr",
     "output_type": "stream",
     "text": [
      "/var/folders/v5/58blb36d3cd187h7fcrmrb640000gn/T/ipykernel_11141/176257707.py:17: DtypeWarning: Columns (26) have mixed types. Specify dtype option on import or set low_memory=False.\n",
      "  df = pd.read_csv('preprocessed.csv')\n"
     ]
    },
    {
     "data": {
      "text/plain": [
       "(102599, 29)"
      ]
     },
     "execution_count": 3,
     "metadata": {},
     "output_type": "execute_result"
    }
   ],
   "source": [
    "import pandas as pd\n",
    "import numpy as np\n",
    "import os\n",
    "import matplotlib.pyplot as plt\n",
    "import matplotlib.image as mpimg\n",
    "import seaborn as sns\n",
    "import dash\n",
    "import plotly\n",
    "import plotly.express as px\n",
    "import plotly.graph_objects as go\n",
    "from dash import Dash, dcc, html, Input, Output\n",
    "from re import sub\n",
    "from decimal import Decimal\n",
    "import plotly.figure_factory as ff\n",
    "from jupyter_dash import JupyterDash\n",
    "\n",
    "df = pd.read_csv('preprocessed.csv')\n",
    "np.shape(df)"
   ]
  }
 ],
 "metadata": {
  "kernelspec": {
   "display_name": "dashp",
   "language": "python",
   "name": "python3"
  },
  "language_info": {
   "codemirror_mode": {
    "name": "ipython",
    "version": 3
   },
   "file_extension": ".py",
   "mimetype": "text/x-python",
   "name": "python",
   "nbconvert_exporter": "python",
   "pygments_lexer": "ipython3",
   "version": "3.9.15"
  },
  "orig_nbformat": 4,
  "vscode": {
   "interpreter": {
    "hash": "76c25eca7a75e6aba7e9b39e65bc4c71aa37bb7db46c84364d394d2f3dd8a2f6"
   }
  }
 },
 "nbformat": 4,
 "nbformat_minor": 2
}
