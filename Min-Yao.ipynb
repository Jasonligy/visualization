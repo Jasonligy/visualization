{
 "cells": [
  {
   "cell_type": "code",
   "execution_count": 3,
   "metadata": {},
   "outputs": [
    {
     "name": "stdout",
     "output_type": "stream",
     "text": [
      "Dash is running on http://127.0.0.1:8050/\n",
      "\n"
     ]
    },
    {
     "name": "stderr",
     "output_type": "stream",
     "text": [
      "/var/folders/v5/58blb36d3cd187h7fcrmrb640000gn/T/ipykernel_3227/919799121.py:8: DtypeWarning:\n",
      "\n",
      "Columns (26) have mixed types. Specify dtype option on import or set low_memory=False.\n",
      "\n",
      "Traceback (most recent call last):\n",
      "  File \"/Users/wulynch/opt/anaconda3/envs/dashp/lib/python3.9/site-packages/ipykernel_launcher.py\", line 17, in <module>\n",
      "    app.launch_new_instance()\n",
      "  File \"/Users/wulynch/opt/anaconda3/envs/dashp/lib/python3.9/site-packages/traitlets/config/application.py\", line 991, in launch_instance\n",
      "    app.initialize(argv)\n",
      "  File \"/Users/wulynch/opt/anaconda3/envs/dashp/lib/python3.9/site-packages/traitlets/config/application.py\", line 113, in inner\n",
      "    return method(app, *args, **kwargs)\n",
      "  File \"/Users/wulynch/opt/anaconda3/envs/dashp/lib/python3.9/site-packages/ipykernel/kernelapp.py\", line 665, in initialize\n",
      "    self.init_sockets()\n",
      "  File \"/Users/wulynch/opt/anaconda3/envs/dashp/lib/python3.9/site-packages/ipykernel/kernelapp.py\", line 309, in init_sockets\n",
      "    self.shell_port = self._bind_socket(self.shell_socket, self.shell_port)\n",
      "  File \"/Users/wulynch/opt/anaconda3/envs/dashp/lib/python3.9/site-packages/ipykernel/kernelapp.py\", line 246, in _bind_socket\n",
      "    return self._try_bind_socket(s, port)\n",
      "  File \"/Users/wulynch/opt/anaconda3/envs/dashp/lib/python3.9/site-packages/ipykernel/kernelapp.py\", line 222, in _try_bind_socket\n",
      "    s.bind(\"tcp://%s:%i\" % (self.ip, port))\n",
      "  File \"/Users/wulynch/opt/anaconda3/envs/dashp/lib/python3.9/site-packages/zmq/sugar/socket.py\", line 229, in bind\n",
      "    super().bind(addr)\n",
      "  File \"zmq/backend/cython/socket.pyx\", line 562, in zmq.backend.cython.socket.Socket.bind\n",
      "  File \"zmq/backend/cython/checkrc.pxd\", line 28, in zmq.backend.cython.checkrc._check_rc\n",
      "zmq.error.ZMQError: Address already in use\n"
     ]
    },
    {
     "ename": "SystemExit",
     "evalue": "1",
     "output_type": "error",
     "traceback": [
      "An exception has occurred, use %tb to see the full traceback.\n",
      "\u001b[0;31mSystemExit\u001b[0m\u001b[0;31m:\u001b[0m 1\n"
     ]
    },
    {
     "name": "stderr",
     "output_type": "stream",
     "text": [
      "/Users/wulynch/opt/anaconda3/envs/dashp/lib/python3.9/site-packages/IPython/core/interactiveshell.py:3441: UserWarning:\n",
      "\n",
      "To exit: use 'exit', 'quit', or Ctrl-D.\n",
      "\n"
     ]
    }
   ],
   "source": [
    "from dash import Dash, dcc, html, Input, Output\n",
    "import plotly.express as px\n",
    "import pandas as pd\n",
    "from jupyter_dash import JupyterDash\n",
    "\n",
    "\n",
    "token = 'pk.eyJ1IjoiZ29sZGVkaXRpb24yMTIiLCJhIjoiY2tld3dvMGxmMGJsbjM1bXV5cXNjam84cSJ9.32Xt4hp12-2Fa3Rk2XFLgQ'\n",
    "airbnb = pd.read_csv('preprocessed.csv')\n",
    "features = [\"nei_price\", \"construction_year\", \"availability_365\",'lat','long']\n",
    "map_data = airbnb[features]\n",
    "\n",
    "\n",
    "app = Dash(__name__)\n",
    "# app = JupyterDash('SimpleExample')\n",
    "\n",
    "app.layout = html.Div([\n",
    "    html.H4('Polotical candidate voting pool analysis'),\n",
    "    html.P(\"Select a candidate:\"),\n",
    "    dcc.RadioItems(\n",
    "        id='candidate', \n",
    "        options=[\"nei_price\", \"construction_year\", \"availability_365\"],\n",
    "        value=\"nei_price\",\n",
    "        inline=True\n",
    "    ),\n",
    "    dcc.Graph(id=\"graph\"),\n",
    "])\n",
    "\n",
    "\n",
    "\n",
    "@app.callback(\n",
    "    Output(\"graph\", \"figure\"), \n",
    "    Input(\"candidate\", \"value\"))\n",
    "def display_choropleth(candidate):\n",
    "    df = map_data # replace with your own data source\n",
    "    fig = px.scatter_mapbox(df, lat='lat', lon='long', color=candidate,\n",
    "            range_color=(400, 700),\n",
    "            color_continuous_scale=px.colors.cyclical.IceFire\n",
    "                            )\n",
    "    # fig.update_layout(mapbox_style=\"dark\", mapbox_accesstoken=token)\n",
    "    fig.update_layout(mapbox_style=\"carto-positron\")\n",
    "    fig.update_layout(margin=dict(b=0, t=0, l=0, r=0))\n",
    "\n",
    "    return fig\n",
    "\n",
    "if __name__ == '__main__':\n",
    "    app.run_server(debug=True)\n",
    "    # app.run_server(mode='inline', port=8051)\n",
    "\n"
   ]
  }
 ],
 "metadata": {
  "kernelspec": {
   "display_name": "dashp",
   "language": "python",
   "name": "python3"
  },
  "language_info": {
   "codemirror_mode": {
    "name": "ipython",
    "version": 3
   },
   "file_extension": ".py",
   "mimetype": "text/x-python",
   "name": "python",
   "nbconvert_exporter": "python",
   "pygments_lexer": "ipython3",
   "version": "3.9.15"
  },
  "orig_nbformat": 4,
  "vscode": {
   "interpreter": {
    "hash": "76c25eca7a75e6aba7e9b39e65bc4c71aa37bb7db46c84364d394d2f3dd8a2f6"
   }
  }
 },
 "nbformat": 4,
 "nbformat_minor": 2
}
